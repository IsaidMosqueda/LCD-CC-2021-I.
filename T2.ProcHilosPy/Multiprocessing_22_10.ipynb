{
  "nbformat": 4,
  "nbformat_minor": 0,
  "metadata": {
    "colab": {
      "name": "Multiprocessing 22-10.ipynb",
      "provenance": [],
      "collapsed_sections": []
    },
    "kernelspec": {
      "name": "python3",
      "display_name": "Python 3"
    }
  },
  "cells": [
    {
      "cell_type": "markdown",
      "metadata": {
        "id": "l7AS6FlfKDNL"
      },
      "source": [
        "<font color=\"Teal\" face=\"Comic Sans MS,arial\">\n",
        "  <h1 align=\"center\"><i> Multiprocessing  </i></h1>\n",
        "  </font>\n",
        "  <font color=\"Black\" face=\"Comic Sans MS,arial\">\n",
        "  <h5 align=\"center\"><i>Autor: Ingrid Pamela Ruiz Puga</i></h5>\n",
        "  <h5 align=\"center\"><i> Computo concurrente</i></h5>\n",
        "  </font>\n",
        "\n",
        "\n",
        "---\n"
      ]
    },
    {
      "cell_type": "markdown",
      "metadata": {
        "id": "7vdDJTO9J9gP"
      },
      "source": [
        "#Multiprocessing\n",
        "El modulo **Multiprocessing** de Python permite la creacion, manipulacion y sincronizacion de procesos, tambien ofrece concurrencia local como remota\n"
      ]
    },
    {
      "cell_type": "code",
      "metadata": {
        "id": "HLnjbKYXJ66Z",
        "outputId": "49315195-8c52-42a4-f621-6bb57309dfd8",
        "colab": {
          "base_uri": "https://localhost:8080/",
          "height": 433
        }
      },
      "source": [
        "import time\n",
        "\n",
        "def calc_cuad(numeros):\n",
        "    print(\"calcula el cuadrado: \")\n",
        "    for n in numeros:\n",
        "        time.sleep(0.2)\n",
        "        print(\"cuadrado:\", n*n)\n",
        "\n",
        "def calc_cubo(numeros):\n",
        "    print(\"calcula el cubo: \")\n",
        "    for n in numeros:\n",
        "        time.sleep(0.2)\n",
        "        print(\"cubo:\", n*n*n)\n",
        "\n",
        "nums = range(10)\n",
        "\n",
        "t= time.time()\n",
        "\n",
        "calc_cuad(nums)\n",
        "calc_cubo(nums)\n",
        "\n",
        "print(\"Finaliza ejecución\")\n",
        "print(\"Tiempo de ejecución\", time.time()-t)\n"
      ],
      "execution_count": null,
      "outputs": [
        {
          "output_type": "stream",
          "text": [
            "calcula el cuadrado: \n",
            "cuadrado: 0\n",
            "cuadrado: 1\n",
            "cuadrado: 4\n",
            "cuadrado: 9\n",
            "cuadrado: 16\n",
            "cuadrado: 25\n",
            "cuadrado: 36\n",
            "cuadrado: 49\n",
            "cuadrado: 64\n",
            "cuadrado: 81\n",
            "calcula el cubo: \n",
            "cubo: 0\n",
            "cubo: 1\n",
            "cubo: 8\n",
            "cubo: 27\n",
            "cubo: 64\n",
            "cubo: 125\n",
            "cubo: 216\n",
            "cubo: 343\n",
            "cubo: 512\n",
            "cubo: 729\n",
            "Finaliza ejecución\n",
            "Tiempo de ejecución 4.014518976211548\n"
          ],
          "name": "stdout"
        }
      ]
    },
    {
      "cell_type": "markdown",
      "metadata": {
        "id": "NtCYh3BVNp3F"
      },
      "source": [
        "Una manera sencilla de generar procesos en Python es por medio de la creación del objeto `Process` y llamarlo por medio del método `start()`"
      ]
    },
    {
      "cell_type": "code",
      "metadata": {
        "id": "JN7EiSxlNo_M",
        "outputId": "9fa11cb3-f5ae-4dda-e2dd-0f4461fdbe61",
        "colab": {
          "base_uri": "https://localhost:8080/",
          "height": 35
        }
      },
      "source": [
        "#Hola mundo de multiprocessing\n",
        "import multiprocessing as mp\n",
        "\n",
        "def tarea(nombre):\n",
        "    print(\"Hola\", nombre)\n",
        "\n",
        "#Le decimos que queremos ejecutar solo lo que indiquemos en el main\n",
        "if __name__=='__main__':\n",
        "    #Target recibe el segmento de cofigo a ejecutar, es deci, tarea\n",
        "    #Args le envia a la funcion el parametro que necesita\n",
        "    p = mp.Process(target=tarea, args=('Saul', ))\n",
        "    p.start()\n",
        "    p.join() #Cierra la linea de ejecucion del proceso hijo, ES IMPORTANTE cerrarlo"
      ],
      "execution_count": null,
      "outputs": [
        {
          "output_type": "stream",
          "text": [
            "Hola Saul\n"
          ],
          "name": "stdout"
        }
      ]
    },
    {
      "cell_type": "code",
      "metadata": {
        "id": "AoIiLW98Q_aP"
      },
      "source": [
        "import multiprocessing as mp\n",
        "\n",
        "def calc_cuad(numeros):\n",
        "    print(\"calcula el cuadrado: \")\n",
        "    for n in numeros:\n",
        "        time.sleep(0.2)\n",
        "        print(\"cuadrado:\", n*n)\n",
        "\n",
        "def calc_cubo(numeros):\n",
        "    print(\"calcula el cubo: \")\n",
        "    for n in numeros:\n",
        "        time.sleep(0.2)\n",
        "        print(\"cubo:\", n*n*n)\n",
        "\n",
        "nums = range(10)\n",
        "\n",
        "t= time.time()\n",
        "#Creamos procesos hijos\n",
        "p1= mp.Process(target=calc_cuad, args=(nums,))\n",
        "p2= mp.Process(target=calc_cubo, args=(nums,))\n",
        "\n",
        "#Comenzamos ejecucion de los procesos\n",
        "p1.start()\n",
        "p2.start()\n",
        "\n",
        "#Regreso la ejecución al proceso padre\n",
        "p1.join()\n",
        "p2.join()\n",
        "\n",
        "print(\"Tiempo de ejecución\", time.time()-t)\n",
        "print(\"Finaliza ejecución\")\n",
        "\n",
        "#El tiempo de ejecución en este utilizando procesos hijos es casi la midad\n",
        "#Que cuando no utilizabamos procesos"
      ],
      "execution_count": null,
      "outputs": []
    },
    {
      "cell_type": "markdown",
      "metadata": {
        "id": "OQqQmoTLbZgy"
      },
      "source": [
        "##Identificadores pid,ppid\n"
      ]
    },
    {
      "cell_type": "code",
      "metadata": {
        "id": "GPBn3GJAbfKO",
        "outputId": "e560ec32-8967-4cf0-da35-611e6f972bb1",
        "colab": {
          "base_uri": "https://localhost:8080/",
          "height": 68
        }
      },
      "source": [
        "import multiprocessing as mp\n",
        "import os\n",
        "\n",
        "print('Nombre del proceso: ', __name__)\n",
        "print('Proceso padre:', os.getppid())\n",
        "print('Proceso actual:', os.getpid())"
      ],
      "execution_count": null,
      "outputs": [
        {
          "output_type": "stream",
          "text": [
            "NOmbre del proceso:  __main__\n",
            "Proceso padre: 20\n",
            "Proceso actual: 103\n"
          ],
          "name": "stdout"
        }
      ]
    },
    {
      "cell_type": "code",
      "metadata": {
        "id": "Mt7vEoYNdO_v",
        "outputId": "557d1c5e-15bf-464b-c779-64761abe0c83",
        "colab": {
          "base_uri": "https://localhost:8080/",
          "height": 187
        }
      },
      "source": [
        "import multiprocess as mp\n",
        "import os \n",
        "\n",
        "def info(Titulo):\n",
        "  print(Titulo)\n",
        "  print('Nombre del proceso:', __name__)\n",
        "  print('Proceso padre:', os.getppid())\n",
        "  print('Proceso actual:', os.getpid())\n",
        "\n",
        "def f(nombre):\n",
        "  info('Función f')\n",
        "  print('Hola', nombre)\n",
        "  print('----------')\n",
        "   \n",
        "info ('Inicio')\n",
        "p=mp.Process(target=f, args=('Valeriano',))\n",
        "p.start()\n",
        "p.join()"
      ],
      "execution_count": null,
      "outputs": [
        {
          "output_type": "stream",
          "text": [
            "Inicio\n",
            "Nombre del proceso: __main__\n",
            "Proceso padre: 20\n",
            "Proceso actual: 103\n",
            "Función f\n",
            "Nombre del proceso: __main__\n",
            "Proceso padre: 103\n",
            "Proceso actual: 376\n",
            "Hola Valeriano\n",
            "----------\n"
          ],
          "name": "stdout"
        }
      ]
    },
    {
      "cell_type": "markdown",
      "metadata": {
        "id": "4Xi9NdDvgRuu"
      },
      "source": [
        "## Ejercicio:\n",
        "\n",
        "Crea tres procesos hijos donde,\n",
        "\n",
        "- El primero multiplique 3 números (a,b,c)\n",
        "- El segundo sea (a,b,c)\n",
        "- EL tercero (a+b)/c\n",
        "- Todos devolverán el nombre de cada proceso hijo, el id del procreso hijo, el id del procreso padre y el valor calculado."
      ]
    },
    {
      "cell_type": "code",
      "metadata": {
        "id": "7-N2NCeWgUXE",
        "outputId": "1941bb0f-aecb-4328-ebf9-fc0c29623a0a",
        "colab": {
          "base_uri": "https://localhost:8080/",
          "height": 323
        }
      },
      "source": [
        "#Para esto, utilizaremos las funciones definidas anteriormente.\n",
        "\n",
        "import multiprocess as mp\n",
        "import os \n",
        "\n",
        "def info(Titulo):\n",
        "  print(Titulo)\n",
        "  print('Nombre del proceso:', __name__)\n",
        "  print('Proceso padre:', os.getppid())\n",
        "  print('Proceso actual:', os.getpid())\n",
        "\n",
        "def operatsion_1(a,b,c):\n",
        "  info('Producto')\n",
        "  p= a*b*c\n",
        "  print('El producto es',p)\n",
        "  print('----------')\n",
        "   \n",
        "def operatsion_2(a,b,c):\n",
        "  info('Suma')\n",
        "  p= a+b+c\n",
        "  print('La suma es',p)\n",
        "  print('----------')\n",
        "\n",
        "def operatsion_3(a,b,c):\n",
        "  info('Operatzione')\n",
        "  p= (a+b)/c\n",
        "  print('La opreación es',p)\n",
        "  print('----------')\n",
        "\n",
        "z=(1,2,3)\n",
        "p1=mp.Process(target=operatsion_1, args=z)\n",
        "p2=mp.Process(target=operatsion_2, args=z)\n",
        "p3=mp.Process(target=operatsion_3, args=z)\n",
        "p1.start()\n",
        "p1.join()\n",
        "p2.start()\n",
        "p2.join()\n",
        "p3.start()\n",
        "p3.join()"
      ],
      "execution_count": null,
      "outputs": [
        {
          "output_type": "stream",
          "text": [
            "Producto\n",
            "Nombre del proceso: __main__\n",
            "Proceso padre: 103\n",
            "Proceso actual: 820\n",
            "El producto es 6\n",
            "----------\n",
            "Suma\n",
            "Nombre del proceso: __main__\n",
            "Proceso padre: 103\n",
            "Proceso actual: 833\n",
            "La suma es 6\n",
            "----------\n",
            "Operatzione\n",
            "Nombre del proceso: __main__\n",
            "Proceso padre: 103\n",
            "Proceso actual: 846\n",
            "La opreación es 1.0\n",
            "----------\n"
          ],
          "name": "stdout"
        }
      ]
    },
    {
      "cell_type": "code",
      "metadata": {
        "id": "1pwuJ6-9mfnH",
        "outputId": "d261b88d-1d3f-4ded-d50b-3592f327d0ea",
        "colab": {
          "base_uri": "https://localhost:8080/",
          "height": 238
        }
      },
      "source": [
        "import time \n",
        "\n",
        "num_res=[]\n",
        "\n",
        "def calc_cuad(numeros):\n",
        "  global num_res           #<- no nos sirven las variables globales en procesos hijos porque son copias de la varibale creada en el proceso padre\n",
        "  for n in numeros:\n",
        "    print('cuadrado:', n*n)\n",
        "    num_res.append(n*n)\n",
        "\n",
        "nums=range(10)\n",
        "t= time.time()\n",
        "p1 = mp.Process(target=calc_cuad,args=(nums,))\n",
        "\n",
        "p1.start()\n",
        "p1.join()\n",
        "\n",
        "print('Tiempo de ejecución: ', time.time()-t)\n",
        "print('Resultado del proceso:', num_res)\n",
        "print('Finaliza ejecución.')"
      ],
      "execution_count": null,
      "outputs": [
        {
          "output_type": "stream",
          "text": [
            "cuadrado: 0\n",
            "cuadrado: 1\n",
            "cuadrado: 4\n",
            "cuadrado: 9\n",
            "cuadrado: 16\n",
            "cuadrado: 25\n",
            "cuadrado: 36\n",
            "cuadrado: 49\n",
            "cuadrado: 64\n",
            "cuadrado: 81\n",
            "Tiempo de ejecución:  0.053412437438964844\n",
            "Resultado del proceso: []\n",
            "Finaliza ejecución.\n"
          ],
          "name": "stdout"
        }
      ]
    },
    {
      "cell_type": "code",
      "metadata": {
        "id": "RVgRGMttmkP_"
      },
      "source": [
        ""
      ],
      "execution_count": null,
      "outputs": []
    }
  ]
}