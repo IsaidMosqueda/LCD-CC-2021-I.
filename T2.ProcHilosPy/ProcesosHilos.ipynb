{
  "nbformat": 4,
  "nbformat_minor": 0,
  "metadata": {
    "colab": {
      "name": "ProcesosHilos.ipynb",
      "provenance": [],
      "collapsed_sections": []
    },
    "kernelspec": {
      "name": "python3",
      "display_name": "Python 3"
    }
  },
  "cells": [
    {
      "cell_type": "markdown",
      "metadata": {
        "id": "l7AS6FlfKDNL"
      },
      "source": [
        "<font color=\"Teal\" face=\"Comic Sans MS,arial\">\n",
        "  <h1 align=\"center\"><i> Procesos e hilos  </i></h1>\n",
        "  </font>\n",
        "  <font color=\"Black\" face=\"Comic Sans MS,arial\">\n",
        "  <h5 align=\"center\"><i>Autor: Ingrid Pamela Ruiz Puga</i></h5>\n",
        "  <h5 align=\"center\"><i> Computo concurrente</i></h5>\n",
        "  </font>\n",
        "\n",
        "\n",
        "---\n"
      ]
    },
    {
      "cell_type": "markdown",
      "metadata": {
        "id": "7vdDJTO9J9gP"
      },
      "source": [
        "#Multiprocessing\n",
        "El modulo **Multiprocessing** de Python permite la creacion, manipulacion y sincronizacion de procesos, tambien ofrece concurrencia local como remota\n"
      ]
    },
    {
      "cell_type": "code",
      "metadata": {
        "id": "HLnjbKYXJ66Z",
        "outputId": "49315195-8c52-42a4-f621-6bb57309dfd8",
        "colab": {
          "base_uri": "https://localhost:8080/",
          "height": 433
        }
      },
      "source": [
        "import time\n",
        "\n",
        "def calc_cuad(numeros):\n",
        "    print(\"calcula el cuadrado: \")\n",
        "    for n in numeros:\n",
        "        time.sleep(0.2)\n",
        "        print(\"cuadrado:\", n*n)\n",
        "\n",
        "def calc_cubo(numeros):\n",
        "    print(\"calcula el cubo: \")\n",
        "    for n in numeros:\n",
        "        time.sleep(0.2)\n",
        "        print(\"cubo:\", n*n*n)\n",
        "\n",
        "nums = range(10)\n",
        "\n",
        "t= time.time()\n",
        "\n",
        "calc_cuad(nums)\n",
        "calc_cubo(nums)\n",
        "\n",
        "print(\"Finaliza ejecución\")\n",
        "print(\"Tiempo de ejecución\", time.time()-t)\n"
      ],
      "execution_count": null,
      "outputs": [
        {
          "output_type": "stream",
          "text": [
            "calcula el cuadrado: \n",
            "cuadrado: 0\n",
            "cuadrado: 1\n",
            "cuadrado: 4\n",
            "cuadrado: 9\n",
            "cuadrado: 16\n",
            "cuadrado: 25\n",
            "cuadrado: 36\n",
            "cuadrado: 49\n",
            "cuadrado: 64\n",
            "cuadrado: 81\n",
            "calcula el cubo: \n",
            "cubo: 0\n",
            "cubo: 1\n",
            "cubo: 8\n",
            "cubo: 27\n",
            "cubo: 64\n",
            "cubo: 125\n",
            "cubo: 216\n",
            "cubo: 343\n",
            "cubo: 512\n",
            "cubo: 729\n",
            "Finaliza ejecución\n",
            "Tiempo de ejecución 4.014518976211548\n"
          ],
          "name": "stdout"
        }
      ]
    },
    {
      "cell_type": "markdown",
      "metadata": {
        "id": "NtCYh3BVNp3F"
      },
      "source": [
        "Una manera sencilla de generar procesos en Python es por medio de la creación del objeto `Process` y llamarlo por medio del método `start()`"
      ]
    },
    {
      "cell_type": "code",
      "metadata": {
        "id": "JN7EiSxlNo_M",
        "outputId": "9fa11cb3-f5ae-4dda-e2dd-0f4461fdbe61",
        "colab": {
          "base_uri": "https://localhost:8080/",
          "height": 35
        }
      },
      "source": [
        "#Hola mundo de multiprocessing\n",
        "import multiprocessing as mp\n",
        "\n",
        "def tarea(nombre):\n",
        "    print(\"Hola\", nombre)\n",
        "\n",
        "#Le decimos que queremos ejecutar solo lo que indiquemos en el main\n",
        "if __name__=='__main__':\n",
        "    #Target recibe el segmento de cofigo a ejecutar, es deci, tarea\n",
        "    #Args le envia a la funcion el parametro que necesita\n",
        "    p = mp.Process(target=tarea, args=('Saul', ))\n",
        "    p.start()\n",
        "    p.join() #Cierra la linea de ejecucion del proceso hijo, ES IMPORTANTE cerrarlo"
      ],
      "execution_count": null,
      "outputs": [
        {
          "output_type": "stream",
          "text": [
            "Hola Saul\n"
          ],
          "name": "stdout"
        }
      ]
    },
    {
      "cell_type": "code",
      "metadata": {
        "id": "AoIiLW98Q_aP",
        "outputId": "7ca11cc5-2ed0-4722-9d50-3ef47f82bac4",
        "colab": {
          "base_uri": "https://localhost:8080/",
          "height": 433
        }
      },
      "source": [
        "import multiprocessing as mp\n",
        "\n",
        "def calc_cuad(numeros):\n",
        "    print(\"calcula el cuadrado: \")\n",
        "    for n in numeros:\n",
        "        time.sleep(0.2)\n",
        "        print(\"cuadrado:\", n*n)\n",
        "\n",
        "def calc_cubo(numeros):\n",
        "    print(\"calcula el cubo: \")\n",
        "    for n in numeros:\n",
        "        time.sleep(0.2)\n",
        "        print(\"cubo:\", n*n*n)\n",
        "\n",
        "nums = range(10)\n",
        "\n",
        "t= time.time()\n",
        "#Creamos procesos hijos\n",
        "p1= mp.Process(target=calc_cuad, args=(nums,))\n",
        "p2= mp.Process(target=calc_cubo, args=(nums,))\n",
        "\n",
        "#Comenzamos ejecucion de los procesos\n",
        "p1.start()\n",
        "p2.start()\n",
        "\n",
        "#Regreso la ejecución al proceso padre\n",
        "p1.join()\n",
        "p2.join()\n",
        "\n",
        "print(\"Tiempo de ejecución\", time.time()-t)\n",
        "print(\"Finaliza ejecución\")\n",
        "\n",
        "#El tiempo de ejecución en este utilizando procesos hijos es casi la midad\n",
        "#Que cuando no utilizabamos procesos"
      ],
      "execution_count": null,
      "outputs": [
        {
          "output_type": "stream",
          "text": [
            "calcula el cuadrado: \n",
            "calcula el cubo: \n",
            "cuadrado: 0\n",
            "cubo: 0\n",
            "cuadrado: 1\n",
            "cubo: 1\n",
            "cuadrado: 4\n",
            "cubo: 8\n",
            "cuadrado: 9\n",
            "cubo: 27\n",
            "cuadrado: 16\n",
            "cubo: 64\n",
            "cuadrado: 25\n",
            "cubo: 125\n",
            "cubo: 216\n",
            "cuadrado: 36\n",
            "cuadrado: 49\n",
            "cubo: 343\n",
            "cuadrado: 64\n",
            "cubo: 512\n",
            "cuadrado: 81\n",
            "cubo: 729\n",
            "Tiempo de ejecución 2.059718608856201\n",
            "Finaliza ejecución\n"
          ],
          "name": "stdout"
        }
      ]
    },
    {
      "cell_type": "markdown",
      "metadata": {
        "id": "Kz060YpmbdKU"
      },
      "source": [
        "#Identificadores pid, ppid\n"
      ]
    },
    {
      "cell_type": "code",
      "metadata": {
        "id": "d-TRp6oGcrwA"
      },
      "source": [
        "import multiprocessing as mp\n",
        "import os"
      ],
      "execution_count": null,
      "outputs": []
    },
    {
      "cell_type": "code",
      "metadata": {
        "id": "txq-AjLubieW",
        "outputId": "e156bd50-9cc4-44b3-ecd0-0f0a02eb438a",
        "colab": {
          "base_uri": "https://localhost:8080/",
          "height": 69
        }
      },
      "source": [
        "print(\"Nombre del proceso : \", __name__)\n",
        "print(\"Proceso padre :\", os.getppid())\n",
        "print(\"Proceso actual :\", os.getpid())"
      ],
      "execution_count": null,
      "outputs": [
        {
          "output_type": "stream",
          "text": [
            "Nombre del proceso :  __main__\n",
            "Proceso padre : 24\n",
            "Proceso actual : 98\n"
          ],
          "name": "stdout"
        }
      ]
    },
    {
      "cell_type": "code",
      "metadata": {
        "id": "nSAq4osEct7m",
        "outputId": "db1846ff-8caa-473a-f530-1b9219ed306d",
        "colab": {
          "base_uri": "https://localhost:8080/",
          "height": 191
        }
      },
      "source": [
        "def info(titulo):\n",
        "    print(titulo)\n",
        "    print(\"Nombre del proceso : \", __name__)\n",
        "    print(\"Proceso padre :\", os.getppid())\n",
        "    print(\"Proceso actual :\", os.getpid())\n",
        "\n",
        "def f(nombre):\n",
        "    info(\"Función f\")\n",
        "    print(\"Hola\", nombre)\n",
        "    print(\"-------------\")\n",
        "\n",
        "info(\"inicio\")\n",
        "p= mp.Process(target=f, args=(\"Valeriano\",)) #tupla\n",
        "p.start()\n",
        "p.join()\n",
        "\n",
        "#Las tuplas no se pueden definir con un elemento ENTONCES AGREGAMOS UNA COMITA PARA QUE TENGA 1 ELEMENTO\n",
        "#Las tuplas son inmutables\n",
        "#Lista []\n",
        "#Tupla"
      ],
      "execution_count": null,
      "outputs": [
        {
          "output_type": "stream",
          "text": [
            "inicio\n",
            "Nombre del proceso :  __main__\n",
            "Proceso padre : 24\n",
            "Proceso actual : 98\n",
            "Función f\n",
            "Nombre del proceso :  __main__\n",
            "Proceso padre : 98\n",
            "Proceso actual : 189\n",
            "Hola Valeriano\n",
            "-------------\n"
          ],
          "name": "stdout"
        }
      ]
    },
    {
      "cell_type": "markdown",
      "metadata": {
        "id": "eF2PoXkqhA_c"
      },
      "source": [
        "## Ejercicio\n",
        "\n",
        "Crea tres procesos hijos, donde:\n",
        "- El primero multiplique 3 números (a,b,c)\n",
        "- El segundo sume (a, b, c)\n",
        "- El tercero (a+b)/c\n",
        "- Todos devolverán el valor calculado de cada proceso hijo y el id del proceso padre"
      ]
    },
    {
      "cell_type": "code",
      "metadata": {
        "id": "BgpkbWmffExt",
        "outputId": "f86f82f9-94c7-4f32-e73e-5dcce0c3c65d",
        "colab": {
          "base_uri": "https://localhost:8080/",
          "height": 329
        }
      },
      "source": [
        "def info(titulo):\n",
        "    print(titulo)\n",
        "    print(\"Nombre del proceso : \", __name__)\n",
        "    print(\"Proceso padre :\", os.getppid())\n",
        "    print(\"Proceso actual :\", os.getpid())\n",
        "\n",
        "def multiplica(a,b,c):\n",
        "    info(\"Multiplicando...\")\n",
        "    print(\"La multiplicación es :\", a*b*c)\n",
        "    print(\"-------------\")\n",
        "\n",
        "def suma(a,b,c):\n",
        "    info(\"Sumando...\")\n",
        "    print(\"La suma es :\", a+b+c)\n",
        "    print(\"-------------\")\n",
        "\n",
        "def tercero(a,b,c):\n",
        "    info(\"Operacion...\")\n",
        "    print(\"La operacion es :\", (a+b)/c)\n",
        "    print(\"-------------\")\n",
        "\n",
        "\n",
        "p1= mp.Process(target=multiplica, args=(9,13,5))\n",
        "p2= mp.Process(target=suma, args=(9,13,5))\n",
        "p3= mp.Process(target=tercero, args=(9,13,5))\n",
        "\n",
        "p1.start()\n",
        "p2.start()\n",
        "p3.start()\n",
        "\n",
        "p1.join()\n",
        "p2.join()\n",
        "p3.join()"
      ],
      "execution_count": null,
      "outputs": [
        {
          "output_type": "stream",
          "text": [
            "Sumando...\n",
            "Nombre del proceso :  __main__\n",
            "Multiplicando...\n",
            "Operacion...\n",
            "Proceso padre : 98\n",
            "Nombre del proceso :  __main__\n",
            "Proceso padre : 98\n",
            "Nombre del proceso :  __main__\n",
            "Proceso actual : 601\n",
            "Proceso actual : 600\n",
            "La suma es : 27\n",
            "Proceso padre : 98\n",
            "La multiplicación es : 585\n",
            "-------------\n",
            "Proceso actual : 606\n",
            "-------------\n",
            "La operacion es : 4.4\n",
            "-------------\n"
          ],
          "name": "stdout"
        }
      ]
    },
    {
      "cell_type": "code",
      "metadata": {
        "id": "e0WxhGQ-mjDd",
        "outputId": "a81c3d6f-d548-4ab8-be2d-827b4607e992",
        "colab": {
          "base_uri": "https://localhost:8080/",
          "height": 243
        }
      },
      "source": [
        "import time\n",
        "nums_res = []\n",
        "def calc_cuad(numeros):\n",
        "    global nums_res\n",
        "    for n in numeros:\n",
        "        print(\"cuadrado:\", n*n)\n",
        "        nums_res.append(n*n)\n",
        "\n",
        "#El proceso hijo crea una variable propia\n",
        "\n",
        "nums= range(10)\n",
        "t= time.time()\n",
        "p1= mp.Process(target=calc_cuad, args=(nums,))\n",
        "\n",
        "p1.start()\n",
        "p1.join()\n",
        "\n",
        "print(\"Tiempo de ejecución:\", time.time()-t)\n",
        "print(\"Resultado del proceso:\", nums_res)\n",
        "print(\"Finaliza ejecución\")"
      ],
      "execution_count": null,
      "outputs": [
        {
          "output_type": "stream",
          "text": [
            "cuadrado: 0\n",
            "cuadrado: 1\n",
            "cuadrado: 4\n",
            "cuadrado: 9\n",
            "cuadrado: 16\n",
            "cuadrado: 25\n",
            "cuadrado: 36\n",
            "cuadrado: 49\n",
            "cuadrado: 64\n",
            "cuadrado: 81\n",
            "Tiempo de ejecución: 0.051204681396484375\n",
            "Resultado del proceso: []\n",
            "Finaliza ejecución\n"
          ],
          "name": "stdout"
        }
      ]
    }
  ]
}