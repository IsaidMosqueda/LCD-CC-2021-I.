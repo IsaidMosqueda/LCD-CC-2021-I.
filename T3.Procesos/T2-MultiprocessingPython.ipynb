{
 "cells": [
  {
   "cell_type": "markdown",
   "metadata": {},
   "source": [
    "# Cómputo Concurrente"
   ]
  },
  {
   "cell_type": "markdown",
   "metadata": {},
   "source": [
    "## Multiprocessing"
   ]
  },
  {
   "cell_type": "markdown",
   "metadata": {},
   "source": [
    "El módulo `multiprocessing` de Python permite la creación, manipulación y sincronización de procesos, también ofrece concurrencia local como remota."
   ]
  },
  {
   "cell_type": "markdown",
   "metadata": {},
   "source": [
    "Ejemplo de motivación..."
   ]
  },
  {
   "cell_type": "code",
   "execution_count": 3,
   "metadata": {},
   "outputs": [
    {
     "name": "stdout",
     "output_type": "stream",
     "text": [
      "calcula el cuadrado:\n",
      "cuadrado: 0\n",
      "cuadrado: 1\n",
      "cuadrado: 4\n",
      "cuadrado: 9\n",
      "cuadrado: 16\n",
      "cuadrado: 25\n",
      "cuadrado: 36\n",
      "cuadrado: 49\n",
      "cuadrado: 64\n",
      "cuadrado: 81\n",
      "calcula el cubo:\n",
      "cubo: 0\n",
      "cubo: 1\n",
      "cubo: 8\n",
      "cubo: 27\n",
      "cubo: 64\n",
      "cubo: 125\n",
      "cubo: 216\n",
      "cubo: 343\n",
      "cubo: 512\n",
      "cubo: 729\n",
      "Finaliza ejecución\n",
      "Tiempo de ejecución 4.028238296508789\n"
     ]
    }
   ],
   "source": [
    "import time\n",
    "\n",
    "def calc_cuad(numeros):\n",
    "    print(\"calcula el cuadrado:\")\n",
    "    for n in numeros:\n",
    "        time.sleep(0.2)\n",
    "        print(\"cuadrado:\", n * n)\n",
    "        \n",
    "def calc_cubo(numeros):\n",
    "    print(\"calcula el cubo:\")\n",
    "    for n in numeros:\n",
    "        time.sleep(0.2)\n",
    "        print(\"cubo:\", n * n * n)\n",
    "\n",
    "nums = range(10)\n",
    "\n",
    "t = time.time()\n",
    "calc_cuad(nums)\n",
    "calc_cubo(nums)\n",
    "\n",
    "\n",
    "print(\"Finaliza ejecución\")\n",
    "print(\"Tiempo de ejecución\", time.time()-t)\n"
   ]
  },
  {
   "cell_type": "markdown",
   "metadata": {},
   "source": [
    "Una manera sencilla de generar procesos en Python es por medio de la creación del objeto `Process` y llamarlo por medio del método `start()`."
   ]
  },
  {
   "cell_type": "code",
   "execution_count": 9,
   "metadata": {},
   "outputs": [
    {
     "name": "stdout",
     "output_type": "stream",
     "text": [
      "Hola  Saul\n"
     ]
    }
   ],
   "source": [
    "import multiprocessing as mp\n",
    "\n",
    "def tarea(nombre):\n",
    "    print(\"Hola \", nombre)\n",
    "    \n",
    "if __name__ == '__main__':\n",
    "    p = mp.Process(target=tarea, args=('Saul', ))\n",
    "    p.start()\n",
    "    p.join()\n"
   ]
  },
  {
   "cell_type": "code",
   "execution_count": 12,
   "metadata": {},
   "outputs": [
    {
     "name": "stdout",
     "output_type": "stream",
     "text": [
      "calcula cuadrado de números\n",
      "calcula cubo de números\n",
      "cuadrado: 0\n",
      "cubo: 0\n",
      "cuadrado: 1\n",
      "cubo: 1\n",
      "cuadrado: 4\n",
      "cubo: 8\n",
      "cuadrado: 9\n",
      "cubo: 27\n",
      "cuadrado: 16\n",
      "cubo: 64\n",
      "cuadrado: 25\n",
      "cubo: 125\n",
      "cuadrado: 36\n",
      "cubo: 216\n",
      "cuadrado: 49\n",
      "cubo: 343\n",
      "cuadrado: 64\n",
      "cubo: 512\n",
      "cuadrado: 81\n",
      "cubo: 729\n",
      "Tiempo de ejecución:  2.114143133163452\n",
      "Finaliza ejecución\n"
     ]
    }
   ],
   "source": [
    "import multiprocessing as mp\n",
    "\n",
    "def calc_cuad(numeros):\n",
    "    print(\"calcula cuadrado de números\")\n",
    "    for n in numeros:\n",
    "        time.sleep(0.2)\n",
    "        print('cuadrado:', n * n )\n",
    "\n",
    "def calc_cubo(numeros):\n",
    "    print(\"calcula cubo de números\")\n",
    "    for n in numeros:\n",
    "        time.sleep(0.2)\n",
    "        print('cubo:', n * n * n)        \n",
    "        \n",
    "nums = range(10)\n",
    "\n",
    "t = time.time()\n",
    "\n",
    "p1 = mp.Process(target=calc_cuad, args=(nums,))\n",
    "p2 = mp.Process(target=calc_cubo, args=(nums,))\n",
    "\n",
    "p1.start()\n",
    "p2.start()\n",
    "\n",
    "p1.join()\n",
    "p2.join()\n",
    "\n",
    "print(\"Tiempo de ejecución: \", time.time()-t)\n",
    "print(\"Finaliza ejecución\")"
   ]
  },
  {
   "cell_type": "markdown",
   "metadata": {},
   "source": [
    "## Identificadores pid, ppid"
   ]
  },
  {
   "cell_type": "code",
   "execution_count": 2,
   "metadata": {},
   "outputs": [
    {
     "name": "stdout",
     "output_type": "stream",
     "text": [
      "Nombre del proceso: __main__\n",
      "Proceso padre: 1586009\n",
      "Proceso actual: 1588624\n"
     ]
    }
   ],
   "source": [
    "import multiprocessing as mp\n",
    "import os\n",
    "\n",
    "print(\"Nombre del proceso:\", __name__)\n",
    "print(\"Proceso padre:\", os.getppid())\n",
    "print(\"Proceso actual:\", os.getpid())"
   ]
  },
  {
   "cell_type": "code",
   "execution_count": 4,
   "metadata": {},
   "outputs": [
    {
     "name": "stdout",
     "output_type": "stream",
     "text": [
      "Inicio\n",
      "Nombre del proceso: __main__\n",
      "Proceso padre: 1586009\n",
      "Proceso actual: 1588624\n",
      "Función f\n",
      "Nombre del proceso: __main__\n",
      "Proceso padre: 1588624\n",
      "Proceso actual: 1665113\n",
      "Hola Valeriano\n",
      "----------\n"
     ]
    }
   ],
   "source": [
    "import multiprocessing as mp\n",
    "import os\n",
    "\n",
    "def info(titulo):\n",
    "    print(titulo)\n",
    "    print(\"Nombre del proceso:\", __name__)\n",
    "    print(\"Proceso padre:\", os.getppid())\n",
    "    print(\"Proceso actual:\", os.getpid())\n",
    "    \n",
    "def f(nombre):\n",
    "    info(\"Función f\")\n",
    "    print(\"Hola\", nombre)\n",
    "    print(\"----------\")\n",
    "\n",
    "    \n",
    "info(\"Inicio\")\n",
    "p = mp.Process(target=f, args=(\"Valeriano\",))\n",
    "p.start()\n",
    "p.join()"
   ]
  },
  {
   "cell_type": "markdown",
   "metadata": {},
   "source": [
    "## Ejercicio:\n",
    "\n",
    "Crea tres procesos hijos, donde:\n",
    "- El primero multiplique 3 números (a, b, c)\n",
    "- El segundo sume (a, b, c)\n",
    "- El tercero (a+b)/c\n",
    "- Todos devolverán el nombre del proceso hijo, el id del proceso hijo, el id del proceso padre y el valor calculado."
   ]
  },
  {
   "cell_type": "code",
   "execution_count": 16,
   "metadata": {},
   "outputs": [],
   "source": [
    "import multiprocessing"
   ]
  },
  {
   "cell_type": "markdown",
   "metadata": {},
   "source": [
    "Con el método `cpu_count()` se muestra el número de procesadores del sistema que se está utilizando."
   ]
  },
  {
   "cell_type": "code",
   "execution_count": 17,
   "metadata": {},
   "outputs": [
    {
     "data": {
      "text/plain": [
       "4"
      ]
     },
     "execution_count": 17,
     "metadata": {},
     "output_type": "execute_result"
    }
   ],
   "source": [
    "multiprocessing.cpu_count()"
   ]
  },
  {
   "cell_type": "markdown",
   "metadata": {},
   "source": [
    "El identificador del proceso actual se accede por medio de `current_process`:\n",
    "\n",
    "```\n",
    "print(multiprocessing.current_process().pid)\n",
    "\n",
    "```\n"
   ]
  },
  {
   "cell_type": "code",
   "execution_count": 18,
   "metadata": {},
   "outputs": [
    {
     "name": "stdout",
     "output_type": "stream",
     "text": [
      "Proceso Padre PID: 2580461\n",
      "Proceso HIJO con PID: 2598014\n",
      "Fin del proceso hijo\n"
     ]
    }
   ],
   "source": [
    "import time\n",
    "\n",
    "def TareaHijo():\n",
    "    print(\"Proceso HIJO con PID: {}\".format(multiprocessing.current_process().pid))\n",
    "    time.sleep(3)\n",
    "    print(\"Fin del proceso hijo\")\n",
    "\n",
    "def main():\n",
    "    print(\"Proceso Padre PID: {}\".format(multiprocessing.current_process().pid))\n",
    "    myProcess = multiprocessing.Process(target=TareaHijo)\n",
    "    myProcess.start()\n",
    "    myProcess.join()\n",
    "\n",
    "# Se acostumbra usar la variable __name__\n",
    "# para hacer la ejecución desde el progragrama\n",
    "# principal, puede omitirse en los notebooks \n",
    "if __name__ == '__main__':\n",
    "    main()"
   ]
  },
  {
   "cell_type": "markdown",
   "metadata": {},
   "source": [
    "Es posible asignar un nombre a un proceso hijo que ha sido creado, por medio del argumento `name` se asigna el nombre del proceso hijo."
   ]
  },
  {
   "cell_type": "code",
   "execution_count": 19,
   "metadata": {},
   "outputs": [
    {
     "name": "stdout",
     "output_type": "stream",
     "text": [
      "Proceso con nombre: Proceso_LCD-CC\n"
     ]
    }
   ],
   "source": [
    "def myProcess():   #CODIGO DEL HIJO\n",
    "    print(\"Proceso con nombre: {}\".format(multiprocessing.current_process().name))\n",
    "\n",
    "def main():   #CODIGO DEL PADRE\n",
    "    childProcess = multiprocessing.Process(target=myProcess, name='Proceso_LCD-CC')\n",
    "    childProcess.start()\n",
    "    childProcess.join()\n",
    "\n",
    "main()"
   ]
  },
  {
   "cell_type": "code",
   "execution_count": 25,
   "metadata": {},
   "outputs": [
    {
     "name": "stdout",
     "output_type": "stream",
     "text": [
      "Starting process Worker 1...\n",
      "Starting process Process-35...\n",
      "Starting process Worker 2...\n",
      "Exiting process Worker 1...\n",
      "Exiting process Process-35...\n",
      "Exiting process Worker 2...\n"
     ]
    }
   ],
   "source": [
    "from multiprocessing import Process, current_process\n",
    "import time\n",
    "\n",
    "def f1():\n",
    "    pname = current_process().name\n",
    "    print('Starting process %s...' % pname)  \n",
    "    time.sleep(2)\n",
    "    print('Exiting process %s...' % pname)\n",
    "\n",
    "def f2():\n",
    "    pname = current_process().name\n",
    "    print('Starting process %s...' % pname)\n",
    "    time.sleep(4)\n",
    "    print('Exiting process %s...' % pname)\n",
    "    \n",
    "if __name__ == '__main__':\n",
    "    p1 = Process(name='Worker 1', target=f1)\n",
    "    p2 = Process(name='Worker 2', target=f2)\n",
    "    p3 = Process(target=f1)\n",
    "    p1.start()\n",
    "    p2.start()\n",
    "    p3.start()\n",
    "    \n",
    "    p1.join()\n",
    "    p2.join()\n",
    "    p3.join()"
   ]
  },
  {
   "cell_type": "markdown",
   "metadata": {},
   "source": [
    "Algunas veces es importante esperar los procesos que se están ejecutando hasta que terminen la tarea que están llevando a cabo. Por medio del método `join()`se implementa el mecanismo de espera has ta qu el proceso ha completado su tarea."
   ]
  },
  {
   "cell_type": "markdown",
   "metadata": {},
   "source": [
    "Un proceso que está en ejecución puede ser cancelado o interrumpido por medido de la función `terminate()`"
   ]
  },
  {
   "cell_type": "code",
   "execution_count": 26,
   "metadata": {},
   "outputs": [
    {
     "name": "stdout",
     "output_type": "stream",
     "text": [
      "Proceso Padre ha terminado, termina el proceso main\n",
      "Terminando el proceso Hijo...\n",
      "Proceso Hijo ha terminado exitosamente\n"
     ]
    }
   ],
   "source": [
    "def TareaProceso():\n",
    "    proceso_actual = multiprocessing.current_process()\n",
    "    print(\"Procesos Hijo PID: {}\".format(proceso_actual.pid))\n",
    "    time.sleep(20)\n",
    "    proceso_actual = multiprocessing.current_process()\n",
    "    print(\"Procesos Padre PID: {}\".format(proceso_actual.pid))\n",
    "\n",
    "# Codigo del padre\n",
    "miProceso = multiprocessing.Process(target=TareaProceso)\n",
    "miProceso.start()\n",
    "#myProcess.join()\n",
    "\n",
    "print(\"Proceso Padre ha terminado, termina el proceso main\")\n",
    "print(\"Terminando el proceso Hijo...\")\n",
    "miProceso.terminate()\n",
    "print(\"Proceso Hijo ha terminado exitosamente\")"
   ]
  },
  {
   "cell_type": "markdown",
   "metadata": {},
   "source": [
    "### Ejercicio:\n",
    "1. Vamos a crear 3 procesos los cuales tendrán nombre y código definido como `funP1`, `funP2`, `funP3`. Cada hijo escribirá su numbre, su `pid` y el `pid` del padre, además de hacer un cálculo sobre tres valores a, b y c. \n",
    "2. El proceso 1 calcula $a \\times b + c$, el proceso 2 calcula $a \\times b \\times c$ y el proceso 3 calcula $(a \\times b)/c$.\n",
    "3. Crea un mecanismo para terminar alguno de los procesos de manera aleatoria.\n"
   ]
  },
  {
   "cell_type": "markdown",
   "metadata": {},
   "source": [
    "##  Bloqueo Global (Global Interpreter Lock) "
   ]
  },
  {
   "cell_type": "markdown",
   "metadata": {},
   "source": [
    "El paquete `multiproccessing` permite generar procesos. La ejecució *concurrente* la lleva acabo el intérprete de Python (escrito en C `CPython`). El paquete ofrece concurrencia tanto local como remota, por medio del Interpretre de bloqueo global (GIL. Debido a esto, el módulo `multiprocessing` permite al programador aprovechar al máximo múltiples procesadores en una máquina determinada. La ejecución de multiples procesos creados con `multiprocessing` es posible tanto en Unix como en Windows."
   ]
  },
  {
   "cell_type": "markdown",
   "metadata": {},
   "source": [
    "Es el mecanismo utilizado por el intérprete CPython para garantizar que solo un subproceso ejecute el código de bytes (*bytecode*) de Python a la vez. Esto simplifica la implementación de CPython al hacer que el modelo de objetos esté implícitamente seguro contra el acceso concurrente.\n",
    "El GIL funciona como un mecanismo de sincronización en la ejecución de procesos (e hilos) tal que únicamente un proceso (o hilo) puede ejecutarse a la vez, aún en un procesador multi-core."
   ]
  },
  {
   "cell_type": "markdown",
   "metadata": {},
   "source": [
    "<img src=\"gil.png\">"
   ]
  },
  {
   "cell_type": "markdown",
   "metadata": {},
   "source": [
    "## Esperar la ejecución de procesos"
   ]
  },
  {
   "cell_type": "markdown",
   "metadata": {},
   "source": [
    "La clase `Process` del módulo `multiprocessing` provee el método `join()` como una forma de esperar que un proceso creado finalice su tarea y salga de su ejecución.\n",
    "\n",
    "No obstante, a veces se requiere **crear procesos que corran en silencio (_background_) y no bloquear el proceso principal hasta que finalicen**. Esta especificación es comunmente utilizada cuando el proceso principal no tiene la certeza de interrumpir el proceso en un momento específico o cuando al finalizar el proceso principal no se tengan afectaciones por no terminar otro proceso."
   ]
  },
  {
   "cell_type": "markdown",
   "metadata": {},
   "source": [
    "Estos proceso se llaman **Proceso demonio** (_daemon processes)_. Por medio del atributo `daemon` del método `Process` se crea un proceso de este tipo. El valor por defecto del atributo `daemon` es `False`, se define a `True` para crear el proceso demonio."
   ]
  },
  {
   "cell_type": "code",
   "execution_count": 4,
   "metadata": {},
   "outputs": [
    {
     "name": "stdout",
     "output_type": "stream",
     "text": [
      "Starting process Worker 1, ID 48064...\n",
      "Starting process Worker 2, ID 48067...\n",
      "Exiting process Worker 2, ID 48067...\n",
      "Exiting process Worker 1, ID 48064...\n"
     ]
    }
   ],
   "source": [
    "from multiprocessing import Process, current_process\n",
    "import time\n",
    "\n",
    "def f1():\n",
    "    p = current_process()\n",
    "    print('Starting process %s, ID %s...' % (p.name, p.pid))\n",
    "    time.sleep(4)\n",
    "    print('Exiting process %s, ID %s...' % (p.name, p.pid))\n",
    "\n",
    "def f2():\n",
    "    p = current_process()\n",
    "    print('Starting process %s, ID %s...' % (p.name, p.pid))\n",
    "    time.sleep(2)\n",
    "    print('Exiting process %s, ID %s...' % (p.name, p.pid))\n",
    "\n",
    "if __name__ == '__main__':\n",
    "    p1 = Process(name='Worker 1', target=f1)\n",
    "    p1.daemon = True\n",
    "    p2 = Process(name='Worker 2', target=f2)\n",
    "    \n",
    "    p1.start()\n",
    "    time.sleep(1)\n",
    "    p2.start()"
   ]
  },
  {
   "cell_type": "markdown",
   "metadata": {},
   "source": [
    "El proceso `p1` es un proceso demonio y el proceso `p2` es un proceso convencional. La ejecución del primer proceso es más larga que la del segundo, por lo que es muy posible que el proceso `p2` finalice antes del proceso `p1`. Debido a que `p1` es un proceso demonio, el proceso principal deberá finalizar antes que el proceso `p1` termine."
   ]
  },
  {
   "cell_type": "markdown",
   "metadata": {},
   "source": [
    "Otra forma de usar los procesos demonios consiste en esperar su ejecución un periodo de tiempo específico antes de terminarlos prematuramente. Las combinación de los procesos demonio con el método `join()` permite determinar un tiempo específico de espera antes de la finalización de un proceso. Por medio del paso de un argumento (número de segundos de espera) al método `join()` de un proceso demonio, se crea una ventana de tiempo de ejecución del proceso después del cual se finalizará haya o no terminado su tarea. "
   ]
  },
  {
   "cell_type": "code",
   "execution_count": 3,
   "metadata": {},
   "outputs": [
    {
     "name": "stdout",
     "output_type": "stream",
     "text": [
      "Starting process Worker 1, ID 47908...\n",
      "Starting process Worker 2, ID 47911...\n",
      "Whether Worker 1 is still alive: True\n",
      "Exiting process Worker 2, ID 47911...\n",
      "Exiting process Worker 1, ID 47908...\n"
     ]
    }
   ],
   "source": [
    "if __name__ == '__main__':\n",
    "    p1 = Process(name='Worker 1', target=f1)\n",
    "    p1.daemon = True\n",
    "    p2 = Process(name='Worker 2', target=f2)\n",
    "    \n",
    "    p1.start()\n",
    "    time.sleep(1)\n",
    "    p2.start()\n",
    "    \n",
    "    p1.join(1)\n",
    "    print('Whether Worker 1 is still alive:', p1.is_alive())\n",
    "    p2.join()\n"
   ]
  },
  {
   "cell_type": "markdown",
   "metadata": {},
   "source": [
    "Vemos que el proceso `p1` permanece en ejecución y continua vivo el tiempo que se ha indicado en proceso principal."
   ]
  },
  {
   "cell_type": "markdown",
   "metadata": {},
   "source": [
    "### Finalización de procesos"
   ]
  },
  {
   "cell_type": "markdown",
   "metadata": {},
   "source": [
    "El método `terminate()` ofrece una forma rápida de terminar un proceso. Es importante mencionar que los procesos hijos que del proceso que termina no son finalizados al realizar la llamada a `terminate()`, estos procesos se denominarán **procesos huérfanos**.\n",
    "\n",
    "Aunque finalizar un proceso puede ser mal visto, algunas veces es necesario si existe algún problema al realizar tareas de _comunicación interprocesos_.\n",
    "\n",
    "Al utlizar `terminate()` es importante hacer la llamada a `join()` también debido a que no es inmediata la actualización del estado `alive` del proceso."
   ]
  },
  {
   "cell_type": "markdown",
   "metadata": {},
   "source": [
    "## Comunicación entre procesos"
   ]
  },
  {
   "cell_type": "markdown",
   "metadata": {},
   "source": [
    "La principal forma de comunicación entre procesos se lleva acabo por medio de tuberías _pipe_ y colas _queue_.\n",
    "entre diferentes procesos. Específicamente, brindan opciones de transmisión de mensajes para facilitar comunicación entre procesos: tuberías para conexiones entre dos procesos y\n",
    "colas para múltiples productores y consumidores.\n",
    "\n",
    "Veremos el uso de colas, específicamente la clase `Queue` de\n",
    "el módulo `multiprocessing`. La implementación de la clase `Queue` es segura para subprocesos y procesos."
   ]
  },
  {
   "cell_type": "markdown",
   "metadata": {},
   "source": [
    "Se prefiere el uso de una cola de mensajes para la comunicación entre procesos en lugar de compartir recursos ya que si ciertos procesos manejan mal la memoria y la corrompen habrá numerosos elementos indeseables y consecuencias impredecibles.\n",
    "Sin embargo, si un proceso no pudo manejar su mensaje correctamente, otros elementos de la cola permanecerán intactos. \n",
    "\n",
    "El siguiente diagrama representa el diferencias en la arquitectura entre el uso de una cola de mensajes y los recursos compartidos (específicamente memoria) para la comunicación entre procesos:"
   ]
  },
  {
   "cell_type": "markdown",
   "metadata": {},
   "source": [
    "<img src=\"queue.png\">"
   ]
  },
  {
   "cell_type": "markdown",
   "metadata": {},
   "source": [
    "Para manejar el objeto `Queue` necesitamos usar dos métodos principales:\n",
    "- `get()` regresa el siguiente item de la cola\n",
    "- `put()` agrega un item a la cola"
   ]
  },
  {
   "cell_type": "markdown",
   "metadata": {},
   "source": [
    "Un ejemplo de implementación de una cola es la siguiente:"
   ]
  },
  {
   "cell_type": "code",
   "execution_count": 30,
   "metadata": {},
   "outputs": [
    {
     "name": "stdout",
     "output_type": "stream",
     "text": [
      "Se pone en la cola:  25\n",
      "Se lee de la cola:  25\n"
     ]
    }
   ],
   "source": [
    "from multiprocessing import Process, Queue\n",
    "\n",
    "def worker(num, q):\n",
    "    print(\"Se pone en la cola: \",  num * num)\n",
    "    q.put(num*num)\n",
    "    \n",
    "if __name__ == '__main__':\n",
    "    my_queue = Queue()\n",
    "    p = Process(target=worker, args=(5, my_queue))\n",
    "    p.start()\n",
    "    p.join()\n",
    "    \n",
    "    print(\"Se lee de la cola: \", my_queue.get())"
   ]
  },
  {
   "cell_type": "markdown",
   "metadata": {},
   "source": [
    "Otro ejemplo de implementación de una cola por medio de uso de clases es la siguiente:"
   ]
  },
  {
   "cell_type": "code",
   "execution_count": 33,
   "metadata": {},
   "outputs": [
    {
     "name": "stdout",
     "output_type": "stream",
     "text": [
      "Starting process Process-17 for number 5...\n",
      "Done.\n"
     ]
    }
   ],
   "source": [
    "import multiprocessing\n",
    "    \n",
    "class MyWorker():\n",
    "    def __init__(self, x):\n",
    "        self.x = x\n",
    "\n",
    "    def process(self):\n",
    "        pname = multiprocessing.current_process().name\n",
    "        print('Starting process %s for number %i...' % (pname, self.x))\n",
    "\n",
    "def work(q):\n",
    "        worker = q.get()\n",
    "        worker.process()\n",
    "\n",
    "if __name__ == '__main__':\n",
    "    my_queue = multiprocessing.Queue()\n",
    "    p = multiprocessing.Process(target=work, args=(my_queue,))\n",
    "    p.start()\n",
    "    my_queue.put(MyWorker(5))\n",
    "    my_queue.close()\n",
    "    my_queue.join_thread()\n",
    "    p.join()\n",
    "    print('Done.')"
   ]
  },
  {
   "cell_type": "markdown",
   "metadata": {},
   "source": [
    "**Ejercicio:** Extiende el ejercicio para que dos procesos hijos lean el valor que el proceso padre pone en la cola."
   ]
  },
  {
   "cell_type": "code",
   "execution_count": null,
   "metadata": {},
   "outputs": [],
   "source": []
  }
 ],
 "metadata": {
  "kernelspec": {
   "display_name": "Python 3",
   "language": "python",
   "name": "python3"
  },
  "language_info": {
   "codemirror_mode": {
    "name": "ipython",
    "version": 3
   },
   "file_extension": ".py",
   "mimetype": "text/x-python",
   "name": "python",
   "nbconvert_exporter": "python",
   "pygments_lexer": "ipython3",
   "version": "3.6.9"
  }
 },
 "nbformat": 4,
 "nbformat_minor": 4
}
